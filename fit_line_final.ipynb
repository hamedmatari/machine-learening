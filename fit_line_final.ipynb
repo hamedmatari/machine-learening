{
  "nbformat": 4,
  "nbformat_minor": 0,
  "metadata": {
    "colab": {
      "name": "fit-line-final",
      "provenance": [],
      "collapsed_sections": [],
      "include_colab_link": true
    },
    "kernelspec": {
      "name": "python3",
      "display_name": "Python 3"
    },
    "accelerator": "GPU"
  },
  "cells": [
    {
      "cell_type": "markdown",
      "metadata": {
        "id": "view-in-github",
        "colab_type": "text"
      },
      "source": [
        "<a href=\"https://colab.research.google.com/github/hamedmatari/machine-learening/blob/main/fit_line_final.ipynb\" target=\"_parent\"><img src=\"https://colab.research.google.com/assets/colab-badge.svg\" alt=\"Open In Colab\"/></a>"
      ]
    },
    {
      "cell_type": "code",
      "metadata": {
        "id": "G93mj5KKQEhH",
        "colab": {
          "base_uri": "https://localhost:8080/"
        },
        "outputId": "092561c0-7d09-4259-f201-7e410206ca95"
      },
      "source": [
        "import torch\n",
        "!pip install -Uqq fastbook\n",
        "import fastbook\n",
        "# fastbook.setup_book()\n",
        "from fastbook import *\n",
        "\n",
        "from matplotlib import pyplot as plt"
      ],
      "execution_count": 1,
      "outputs": [
        {
          "output_type": "stream",
          "name": "stdout",
          "text": [
            "\u001b[K     |████████████████████████████████| 719 kB 5.2 MB/s \n",
            "\u001b[K     |████████████████████████████████| 1.2 MB 70.1 MB/s \n",
            "\u001b[K     |████████████████████████████████| 346 kB 57.9 MB/s \n",
            "\u001b[K     |████████████████████████████████| 4.2 MB 58.8 MB/s \n",
            "\u001b[K     |████████████████████████████████| 197 kB 75.8 MB/s \n",
            "\u001b[K     |████████████████████████████████| 60 kB 8.8 MB/s \n",
            "\u001b[K     |████████████████████████████████| 212 kB 72.5 MB/s \n",
            "\u001b[K     |████████████████████████████████| 140 kB 73.2 MB/s \n",
            "\u001b[K     |████████████████████████████████| 86 kB 6.6 MB/s \n",
            "\u001b[K     |████████████████████████████████| 1.1 MB 66.6 MB/s \n",
            "\u001b[K     |████████████████████████████████| 86 kB 5.4 MB/s \n",
            "\u001b[K     |████████████████████████████████| 596 kB 51.1 MB/s \n",
            "\u001b[K     |████████████████████████████████| 127 kB 27.1 MB/s \n",
            "\u001b[K     |████████████████████████████████| 144 kB 61.2 MB/s \n",
            "\u001b[K     |████████████████████████████████| 94 kB 2.9 MB/s \n",
            "\u001b[K     |████████████████████████████████| 271 kB 55.3 MB/s \n",
            "\u001b[K     |████████████████████████████████| 112 kB 12.0 MB/s \n",
            "\u001b[K     |████████████████████████████████| 6.6 MB 32.9 MB/s \n",
            "\u001b[31mERROR: pip's dependency resolver does not currently take into account all the packages that are installed. This behaviour is the source of the following dependency conflicts.\n",
            "datascience 0.10.6 requires folium==0.2.1, but you have folium 0.8.3 which is incompatible.\u001b[0m\n",
            "\u001b[?25h"
          ]
        }
      ]
    },
    {
      "cell_type": "code",
      "source": [
        "time = torch.arange(0,20).float();\n",
        "\n",
        "# speed = 2*(time)**2 + 3*time + 50\n",
        "speed  = -4 + 5*time\n",
        "plt.scatter(time , speed)"
      ],
      "metadata": {
        "id": "wjGylxLj3bql",
        "outputId": "7c7352e1-ec03-4c43-aced-418afb28063d",
        "colab": {
          "base_uri": "https://localhost:8080/",
          "height": 283
        }
      },
      "execution_count": 3,
      "outputs": [
        {
          "output_type": "execute_result",
          "data": {
            "text/plain": [
              "<matplotlib.collections.PathCollection at 0x7efdb2083dd0>"
            ]
          },
          "metadata": {},
          "execution_count": 3
        },
        {
          "output_type": "display_data",
          "data": {
            "text/plain": [
              "<Figure size 432x288 with 1 Axes>"
            ],
            "image/png": "[encoded data removed]"
          },
          "metadata": {
            "needs_background": "light"
          }
        }
      ]
    },
    {
      "cell_type": "code",
      "source": [
        "def f(t , params):\n",
        "  c , b = params\n",
        "  return b*t + c\n",
        "\n",
        "def show_preds(preds , ax=None):\n",
        "  if ax is None:\n",
        "    ax = plt.subplots()[1]\n",
        "\n",
        "  ax.scatter(time , speed)\n",
        "  ax.scatter(time , to_np(preds) , color='red')"
      ],
      "metadata": {
        "id": "9loFBalO4llH"
      },
      "execution_count": 4,
      "outputs": []
    },
    {
      "cell_type": "code",
      "source": [
        "params = torch.randn(2).requires_grad_()\n",
        "#print(time)\n",
        "#print(params)\n",
        "predictions = f(time , params)\n",
        "#print(predictions)\n",
        "show_preds(predictions , ax=None)"
      ],
      "metadata": {
        "id": "YBnE5Z_O5KwZ",
        "outputId": "f277de8a-85e9-4f27-b0cd-7211707e13cc",
        "colab": {
          "base_uri": "https://localhost:8080/",
          "height": 339
        }
      },
      "execution_count": 5,
      "outputs": [
        {
          "output_type": "stream",
          "name": "stdout",
          "text": [
            "tensor([ 0.,  1.,  2.,  3.,  4.,  5.,  6.,  7.,  8.,  9., 10., 11., 12., 13., 14., 15., 16., 17., 18., 19.])\n",
            "tensor([0.3367, 0.1288], requires_grad=True)\n",
            "tensor([0.3367, 0.4655, 0.5943, 0.7231, 0.8519, 0.9807, 1.1095, 1.2384, 1.3672, 1.4960, 1.6248, 1.7536, 1.8824, 2.0112, 2.1400, 2.2688, 2.3976, 2.5265, 2.6553, 2.7841], grad_fn=<AddBackward0>)\n"
          ]
        },
        {
          "output_type": "display_data",
          "data": {
            "text/plain": [
              "<Figure size 432x288 with 1 Axes>"
            ],
            "image/png": "[encoded data removed]"
          },
          "metadata": {
            "needs_background": "light"
          }
        }
      ]
    },
    {
      "cell_type": "code",
      "source": [
        "def mse(predictions , target):\n",
        "  return ((target-predictions)**2).mean()\n",
        "\n",
        "loss = mse(predictions , speed)\n",
        "loss.backward()\n",
        "params.grad\n"
      ],
      "metadata": {
        "id": "ZqiaPTUn57eO",
        "outputId": "3a83bd7d-584f-49f9-8602-c78ec7b4dbeb",
        "colab": {
          "base_uri": "https://localhost:8080/"
        }
      },
      "execution_count": 6,
      "outputs": [
        {
          "output_type": "execute_result",
          "data": {
            "text/plain": [
              "tensor([  -83.8792, -1120.7870])"
            ]
          },
          "metadata": {},
          "execution_count": 6
        }
      ]
    },
    {
      "cell_type": "code",
      "source": [
        "lr = 1e-5\n",
        "params.data -= lr * params.grad.data"
      ],
      "metadata": {
        "id": "0-D8vwvb6voH"
      },
      "execution_count": 7,
      "outputs": []
    },
    {
      "cell_type": "code",
      "source": [
        "predictions = f(time , params)\n",
        "show_preds(predictions , ax=None)\n"
      ],
      "metadata": {
        "id": "z4G7Wdag64rz",
        "outputId": "a0a56d35-9789-4c1d-d0cb-79c41ef06b9b",
        "colab": {
          "base_uri": "https://localhost:8080/",
          "height": 265
        }
      },
      "execution_count": 8,
      "outputs": [
        {
          "output_type": "display_data",
          "data": {
            "text/plain": [
              "<Figure size 432x288 with 1 Axes>"
            ],
            "image/png": "[encoded data removed]"
          },
          "metadata": {
            "needs_background": "light"
          }
        }
      ]
    },
    {
      "cell_type": "code",
      "source": [
        "def apply_step ( params , print_loss=True , lr = 1e-5):\n",
        "  preds = f(time , params)\n",
        "  loss = mse(preds , speed)\n",
        "  loss.backward()\n",
        "  params.data -= lr* params.grad.data\n",
        "  params.grad= None\n",
        "  if print_loss is True:\n",
        "     print(params)\n",
        "     print(loss.item())\n"
      ],
      "metadata": {
        "id": "P9LqjhAx7fXR"
      },
      "execution_count": 9,
      "outputs": []
    },
    {
      "cell_type": "code",
      "source": [
        "del params\n",
        "params = (1*torch.randn(2)).requires_grad_()"
      ],
      "metadata": {
        "id": "Te3LMxcJ8Ckq"
      },
      "execution_count": 14,
      "outputs": []
    },
    {
      "cell_type": "code",
      "source": [
        "_,axs = plt.subplots(1,100, figsize=(12,3))\n",
        "for i in range(100):\n",
        "  ax =axs[i]\n",
        "  show_res = i % 5 == True\n",
        "  apply_step(params , print_loss=show_res , lr = 1e-5)\n",
        "  preds = f(time , params)\n",
        "  #show_preds(preds , ax)"
      ],
      "metadata": {
        "id": "vGdAPtJp8RQy",
        "colab": {
          "base_uri": "https://localhost:8080/",
          "height": 929
        },
        "outputId": "e49b6cff-9dd1-49d9-9f35-216bfb254a04"
      },
      "execution_count": 28,
      "outputs": [
        {
          "output_type": "stream",
          "name": "stdout",
          "text": [
            "tensor([-0.0457,  4.2187], requires_grad=True)\n",
            "32.461021423339844\n",
            "tensor([-0.0453,  4.2246], requires_grad=True)\n",
            "31.76862144470215\n",
            "tensor([-0.0450,  4.2304], requires_grad=True)\n",
            "31.093135833740234\n",
            "tensor([-0.0447,  4.2361], requires_grad=True)\n",
            "30.434200286865234\n",
            "tensor([-0.0443,  4.2417], requires_grad=True)\n",
            "29.79155921936035\n",
            "tensor([-0.0440,  4.2473], requires_grad=True)\n",
            "29.164642333984375\n",
            "tensor([-0.0437,  4.2528], requires_grad=True)\n",
            "28.55316162109375\n",
            "tensor([-0.0434,  4.2583], requires_grad=True)\n",
            "27.956689834594727\n",
            "tensor([-0.0431,  4.2637], requires_grad=True)\n",
            "27.37485694885254\n",
            "tensor([-0.0428,  4.2690], requires_grad=True)\n",
            "26.80734634399414\n",
            "tensor([-0.0425,  4.2742], requires_grad=True)\n",
            "26.2537899017334\n",
            "tensor([-0.0422,  4.2794], requires_grad=True)\n",
            "25.713787078857422\n",
            "tensor([-0.0419,  4.2845], requires_grad=True)\n",
            "25.18705940246582\n",
            "tensor([-0.0416,  4.2895], requires_grad=True)\n",
            "24.67328453063965\n",
            "tensor([-0.0413,  4.2945], requires_grad=True)\n",
            "24.17214584350586\n",
            "tensor([-0.0411,  4.2995], requires_grad=True)\n",
            "23.683208465576172\n",
            "tensor([-0.0408,  4.3043], requires_grad=True)\n",
            "23.206411361694336\n",
            "tensor([-0.0405,  4.3091], requires_grad=True)\n",
            "22.74124526977539\n",
            "tensor([-0.0403,  4.3139], requires_grad=True)\n",
            "22.28752326965332\n",
            "tensor([-0.0400,  4.3186], requires_grad=True)\n",
            "21.844987869262695\n"
          ]
        },
        {
          "output_type": "display_data",
          "data": {
            "text/plain": [
              "<Figure size 864x216 with 100 Axes>"
            ],
            "image/png": "[encoded data removed]"
          },
          "metadata": {
            "needs_background": "light"
          }
        }
      ]
    },
    {
      "cell_type": "code",
      "source": [
        "#print(params)\n",
        "def useParams(x):\n",
        "\n",
        "  print(to_np(params)[1]*x+to_np(params))\n",
        "\n",
        "useParams(4)"
      ],
      "metadata": {
        "colab": {
          "base_uri": "https://localhost:8080/"
        },
        "id": "6DnE4XYd6r3L",
        "outputId": "cd987399-b876-4a27-e168-2308ecb10434"
      },
      "execution_count": 36,
      "outputs": [
        {
          "output_type": "stream",
          "name": "stdout",
          "text": [
            "[17.245552 21.606773]\n"
          ]
        }
      ]
    }
  ]
}